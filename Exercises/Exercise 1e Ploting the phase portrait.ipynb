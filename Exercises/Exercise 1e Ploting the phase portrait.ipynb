{
 "cells": [
  {
   "cell_type": "markdown",
   "id": "cb4abba6",
   "metadata": {},
   "source": [
    "# Exercise 1e Ploting the phase portrait"
   ]
  },
  {
   "cell_type": "code",
   "execution_count": null,
   "id": "5ca1e05c",
   "metadata": {},
   "outputs": [],
   "source": [
    "from sympy import *"
   ]
  },
  {
   "cell_type": "markdown",
   "id": "12854ab6",
   "metadata": {},
   "source": [
    "#### First, lets write again our differential equations and solve the insulin and glucose lines:"
   ]
  },
  {
   "cell_type": "code",
   "execution_count": null,
   "id": "65cf5dfe",
   "metadata": {},
   "outputs": [],
   "source": [
    "m,s,I,G,B,gamma = symbols('m,s,I,G,B,gamma',positive=True)\n",
    "fG              = Function('f')(G)\n",
    "\n",
    "dG              = m     - s*I*G\n",
    "dI              = B*fG - gamma*I\n",
    "\n",
    "glucose_line    = solve(dG,I)[0]  \n",
    "insulin_line    = solve(dI,I)[0]  "
   ]
  },
  {
   "cell_type": "markdown",
   "id": "fd658dbe",
   "metadata": {},
   "source": [
    "### See the example below to use '.subs()' in order to replace $f(G)$ with any other expression:\n"
   ]
  },
  {
   "cell_type": "markdown",
   "id": "5c85d7a2",
   "metadata": {},
   "source": [
    "Here, I make a symbolic expression for our simple approximation, and store it in the varible 'simple_g'"
   ]
  },
  {
   "cell_type": "code",
   "execution_count": null,
   "id": "f454306d",
   "metadata": {},
   "outputs": [],
   "source": [
    "q        = symbols('q',positive=True)  \n",
    "simple_g = q*G    \n",
    "display(simple_g)"
   ]
  },
  {
   "cell_type": "markdown",
   "id": "395cc5cd",
   "metadata": {},
   "source": [
    "Here, I make a symbolic expression for Hill function, and store it in the varible 'hill_g'"
   ]
  },
  {
   "cell_type": "code",
   "execution_count": null,
   "id": "3c87fa1a",
   "metadata": {},
   "outputs": [],
   "source": [
    "n,k    = symbols('n,k',positive=True)  \n",
    "hill_g = q*G**n/(k**n + G**n)     \n",
    "display(hill_g)"
   ]
  },
  {
   "cell_type": "markdown",
   "id": "f115b7e5",
   "metadata": {},
   "source": [
    "#### The insulin line is:"
   ]
  },
  {
   "cell_type": "code",
   "execution_count": null,
   "id": "37cd6fcb",
   "metadata": {},
   "outputs": [],
   "source": [
    "display(insulin_line)"
   ]
  },
  {
   "cell_type": "markdown",
   "id": "4caeb91b",
   "metadata": {},
   "source": [
    "#### Using .subs(), we can replace $f(G)$  with any other expression without rewrting insulin equation:"
   ]
  },
  {
   "cell_type": "code",
   "execution_count": null,
   "id": "5260d814",
   "metadata": {},
   "outputs": [],
   "source": [
    "display(insulin_line.subs(fG,simple_g))"
   ]
  },
  {
   "cell_type": "code",
   "execution_count": null,
   "id": "1428c33d",
   "metadata": {},
   "outputs": [],
   "source": [
    "display(insulin_line.subs(fG,hill_g))"
   ]
  },
  {
   "cell_type": "markdown",
   "id": "0a6c1928",
   "metadata": {},
   "source": [
    "### The function below plots the phase portrait"
   ]
  },
  {
   "cell_type": "code",
   "execution_count": null,
   "id": "6da7aa16",
   "metadata": {},
   "outputs": [],
   "source": [
    "import numpy as np\n",
    "from matplotlib import pyplot as plt\n",
    "\n",
    "def plot_GI_phase_portrait(G_line,I_line,parameters,ls='-'):\n",
    "    with np.errstate(divide='ignore'): # supress warnning due to division by zero\n",
    "\n",
    "        G_w_pars = G_line.subs(parameters)\n",
    "        I_w_pars = I_line.subs(parameters)\n",
    "        G_func   = lambdify(G,G_w_pars)\n",
    "        I_func   = lambdify(G,I_w_pars)\n",
    "\n",
    "        G_range  = np.arange(0,3.1,0.1)\n",
    "        plt.plot(G_range,I_func(G_range),c='blue',ls=ls,lw=2)\n",
    "        plt.plot(G_range,G_func(G_range),c='orange',ls=ls,lw=2)\n",
    "        plt.ylim([0,2]); plt.ylabel('Insulin')\n",
    "        plt.xlim([0,3]); plt.xlabel('Glucose')\n",
    "        plt.legend(['Insulin line','Glucose line'],loc='center left', bbox_to_anchor=(1, 0.5))\n",
    "        plt.title('The phase portrait')"
   ]
  },
  {
   "cell_type": "markdown",
   "id": "d9e02808",
   "metadata": {},
   "source": [
    "#### Here, I comapre two values for the parameter $q$ - maximal insulin production per beta-cell\n"
   ]
  },
  {
   "cell_type": "code",
   "execution_count": null,
   "id": "b02a5fcd",
   "metadata": {},
   "outputs": [],
   "source": [
    "plot_GI_phase_portrait(glucose_line,insulin_line.subs(fG,hill_g),{gamma:1,m:1,B:1,q:1,s:1,k:1,n:2})\n",
    "plot_GI_phase_portrait(glucose_line,insulin_line.subs(fG,hill_g),{gamma:1,m:1,B:1,q:2,s:1,k:1,n:2},ls='--')  ; plt.show()\n",
    "\n",
    "plot_GI_phase_portrait(glucose_line,insulin_line.subs(fG,simple_g),{gamma:1,m:1,B:1,q:1,s:1,k:1,n:2})\n",
    "plot_GI_phase_portrait(glucose_line,insulin_line.subs(fG,simple_g),{gamma:1,m:1,B:1,q:2,s:1,k:1,n:2},ls='--'); plt.show()"
   ]
  },
  {
   "cell_type": "markdown",
   "id": "8ff69748",
   "metadata": {},
   "source": [
    "When we rise q (dashed line) the insulin line shifts upwards, glucose steady state decreases, and insulin steady state increases\n",
    "\n",
    "This is in agreement with the steady state expression that we found in 1.d : $G_{st}$ ~ $\\frac{1}{\\sqrt{q}}$ , \n",
    "$I_{st}$ ~ $\\sqrt{q}$"
   ]
  },
  {
   "cell_type": "markdown",
   "id": "5e9d05c9",
   "metadata": {},
   "source": [
    "### Fill up values for the paramerers and observe the change in the lines and steady state:"
   ]
  },
  {
   "cell_type": "code",
   "execution_count": null,
   "id": "f2fa02ac",
   "metadata": {},
   "outputs": [],
   "source": [
    "plot_GI_phase_portrait(glucose_line,insulin_line.subs(fG,hill_g),{gamma:1,m:1,B:1,q:1,s:1,k:1,n:2})\n",
    "plot_GI_phase_portrait(glucose_line,insulin_line.subs(fG,hill_g),{gamma: ,m: ,B: ,q: ,s: ,k: ,n: },ls='--')  ; plt.show()\n",
    "\n",
    "plot_GI_phase_portrait(glucose_line,insulin_line.subs(fG,simple_g),{gamma:1,m:1,B:1,q:1,s:1,k:1,n:2})\n",
    "plot_GI_phase_portrait(glucose_line,insulin_line.subs(fG,simple_g),{gamma: ,m: ,B: ,q: ,s: ,k: ,n: },ls='--'); plt.show()"
   ]
  },
  {
   "cell_type": "code",
   "execution_count": null,
   "id": "97540daa",
   "metadata": {},
   "outputs": [],
   "source": [
    "plot_GI_phase_portrait(glucose_line,insulin_line.subs(fG,hill_g),{gamma:1,m:1,B:1,q:1,s:1,k:1,n:2})\n",
    "plot_GI_phase_portrait(glucose_line,insulin_line.subs(fG,hill_g),{gamma: ,m: ,B: ,q: ,s: ,k: ,n: },ls='--')  ; plt.show()\n",
    "\n",
    "plot_GI_phase_portrait(glucose_line,insulin_line.subs(fG,simple_g),{gamma:1,m:1,B:1,q:1,s:1,k:1,n:2})\n",
    "plot_GI_phase_portrait(glucose_line,insulin_line.subs(fG,simple_g),{gamma: ,m: ,B: ,q: ,s: ,k: ,n: },ls='--'); plt.show()"
   ]
  },
  {
   "cell_type": "code",
   "execution_count": null,
   "id": "706588a8",
   "metadata": {},
   "outputs": [],
   "source": [
    "plot_GI_phase_portrait(glucose_line,insulin_line.subs(fG,hill_g),{gamma:1,m:1,B:1,q:1,s:1,k:1,n:2})\n",
    "plot_GI_phase_portrait(glucose_line,insulin_line.subs(fG,hill_g),{gamma: ,m: ,B: ,q: ,s: ,k: ,n: },ls='--')  ; plt.show()\n",
    "\n",
    "plot_GI_phase_portrait(glucose_line,insulin_line.subs(fG,simple_g),{gamma:1,m:1,B:1,q:1,s:1,k:1,n:2})\n",
    "plot_GI_phase_portrait(glucose_line,insulin_line.subs(fG,simple_g),{gamma: ,m: ,B: ,q: ,s: ,k: ,n: },ls='--'); plt.show()"
   ]
  }
 ],
 "metadata": {
  "hide_input": false,
  "kernelspec": {
   "display_name": "Python 3 (ipykernel)",
   "language": "python",
   "name": "python3"
  },
  "language_info": {
   "codemirror_mode": {
    "name": "ipython",
    "version": 3
   },
   "file_extension": ".py",
   "mimetype": "text/x-python",
   "name": "python",
   "nbconvert_exporter": "python",
   "pygments_lexer": "ipython3",
   "version": "3.7.11"
  }
 },
 "nbformat": 4,
 "nbformat_minor": 5
}
