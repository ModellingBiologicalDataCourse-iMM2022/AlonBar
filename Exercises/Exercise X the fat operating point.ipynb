{
 "cells": [
  {
   "cell_type": "markdown",
   "id": "545c3e5d",
   "metadata": {},
   "source": [
    "# Extra exercise -  the fat operating point"
   ]
  },
  {
   "cell_type": "code",
   "execution_count": null,
   "id": "998758e6",
   "metadata": {},
   "outputs": [],
   "source": [
    "from sympy import *\n",
    "import numpy as np\n",
    "import matplotlib.pyplot as plt"
   ]
  },
  {
   "cell_type": "markdown",
   "id": "625b1ada",
   "metadata": {},
   "source": [
    "## The aim of this exercise is to analyze how fat mass and feeding regulats each other\n",
    "## For that reason, we will model a new endocrine circuit - the leptin circuit:\n",
    "### Read the following short introduction to the leptin circuit:\n",
    "\n",
    "* Leptin is secreted by adipocytes (fat cells) in proportion to their fat deposit.\n",
    "* Leptin is a satiety hormone - it reaches areas in the brain and at act to reduce food seeking behviour.\n",
    "* Leptin secretion is also sensitive to recent food intake - it rises when we eat, and decreses when we fast\n",
    "\n",
    "#### 1. Based on the information above, write a simple differential equation for leptin:\n",
    "* Use only the given symbols\n",
    "* Name this varible 'dL'"
   ]
  },
  {
   "cell_type": "code",
   "execution_count": null,
   "id": "0285d467",
   "metadata": {},
   "outputs": [],
   "source": [
    "L,F,al,bl,u = symbols('L,F,a_L,\\gamma_L,u ',positive= True)\n",
    "dL_dt       = symbols('dL')/symbols('dt')"
   ]
  },
  {
   "cell_type": "code",
   "execution_count": null,
   "id": "a86515b0",
   "metadata": {},
   "outputs": [],
   "source": []
  },
  {
   "cell_type": "markdown",
   "id": "c60752ce",
   "metadata": {},
   "source": [
    "#### 2. We will model an equation for daily food intake\n",
    "#### We will assume a hill function: $u = \\frac{u_{max}}{1+(L/K_L)^n}$\n",
    "#### Write an expression for $u$:  \n",
    "name this varible 'uL'"
   ]
  },
  {
   "cell_type": "code",
   "execution_count": null,
   "id": "470a603b",
   "metadata": {},
   "outputs": [],
   "source": []
  },
  {
   "cell_type": "markdown",
   "id": "fc1d6425",
   "metadata": {},
   "source": [
    "#### 3. lastly, we will model a differential equation for fat-mass:\n",
    "* Fat prodction rises with food intake, $a_F u$\n",
    "\n",
    "* Fat is removal is due to two processes:\n",
    " * Fat itself is energy demanding - fat removal is proportional to fat mass $\\gamma_F F$\n",
    " * In addition, there is basal energetic cost - a constant removal term $\\gamma_E$\n",
    "\n",
    "#### Write the differntial equation for fat mass:\n",
    "Name this varible 'dF'"
   ]
  },
  {
   "cell_type": "code",
   "execution_count": null,
   "id": "adadb9e8",
   "metadata": {},
   "outputs": [],
   "source": []
  },
  {
   "cell_type": "markdown",
   "id": "b02e0ef7",
   "metadata": {},
   "source": [
    "# \n",
    "# \n",
    "# "
   ]
  },
  {
   "cell_type": "markdown",
   "id": "ef1df512",
   "metadata": {},
   "source": [
    "# Next we will plot the phase portrait of the system\n",
    "# we will have fat mass, $F$ on the y-axis, and daily food intake $u$ on the x-axis"
   ]
  },
  {
   "cell_type": "markdown",
   "id": "5c5e07e2",
   "metadata": {},
   "source": [
    "#### 4. What is the equation that describes fat steady state, if we hold food intake $u$ constant?"
   ]
  },
  {
   "cell_type": "code",
   "execution_count": null,
   "id": "9720d8c0",
   "metadata": {},
   "outputs": [],
   "source": []
  },
  {
   "cell_type": "markdown",
   "id": "b07548c8",
   "metadata": {},
   "source": [
    "This will be the first line to draw over the phase portrait\n",
    "\n",
    "make a variable to hold this line, call it 'f_line'"
   ]
  },
  {
   "cell_type": "code",
   "execution_count": null,
   "id": "04f947d9",
   "metadata": {},
   "outputs": [],
   "source": []
  },
  {
   "cell_type": "markdown",
   "id": "9028a05e",
   "metadata": {},
   "source": [
    "#### 5. What is the equation that describes leptin steady state, if we hold daily food intake $u$ and fat-mass $F$ constant?"
   ]
  },
  {
   "cell_type": "code",
   "execution_count": null,
   "id": "a88a386e",
   "metadata": {},
   "outputs": [],
   "source": []
  },
  {
   "cell_type": "markdown",
   "id": "005669b8",
   "metadata": {},
   "source": [
    "Leptin timescales are much faster then the timescale of fat mass change.\n",
    "\n",
    "We can assume over a day, fat mass doesn't change. Hence, we can assume that for a given day, leptin concetrations can be calulated from the equation above."
   ]
  },
  {
   "cell_type": "markdown",
   "id": "e9aa7eab",
   "metadata": {},
   "source": [
    "### What is the equation that describes food intake $u$ at a given level of fat-mass $F$?\n",
    "#### This part is tricky. So follow the exmaple:\n",
    "First, we will rearange the food intake equation:"
   ]
  },
  {
   "cell_type": "code",
   "execution_count": null,
   "id": "f6faf07d",
   "metadata": {},
   "outputs": [],
   "source": [
    "display(Eq(u,uL))"
   ]
  },
  {
   "cell_type": "markdown",
   "id": "f65c2973",
   "metadata": {},
   "source": [
    "We ask 'solve' to solve the equation above for L:\n",
    "\n",
    "We will call this varible 'Lu'"
   ]
  },
  {
   "cell_type": "code",
   "execution_count": null,
   "id": "3ff608d3",
   "metadata": {},
   "outputs": [],
   "source": [
    "Lu = solve(Eq(u,uL),L)[0]\n",
    "display(Eq(L,Lu))"
   ]
  },
  {
   "cell_type": "markdown",
   "id": "5884d253",
   "metadata": {},
   "source": [
    "From question 5, we have another equation for leptin $L$, together they make the equation:"
   ]
  },
  {
   "cell_type": "code",
   "execution_count": null,
   "id": "ecd98017",
   "metadata": {
    "scrolled": true
   },
   "outputs": [],
   "source": [
    "leptin_equality = Eq(solve(dL,L)[0],Lu)\n",
    "display(leptin_equality)"
   ]
  },
  {
   "cell_type": "markdown",
   "id": "dbb2e9c7",
   "metadata": {},
   "source": [
    "We can solve this equation for fat mass $F$"
   ]
  },
  {
   "cell_type": "code",
   "execution_count": null,
   "id": "fa8b1cad",
   "metadata": {},
   "outputs": [],
   "source": [
    "solve(leptin_equality,F)[0]"
   ]
  },
  {
   "cell_type": "code",
   "execution_count": null,
   "id": "b2638951",
   "metadata": {},
   "outputs": [],
   "source": [
    "display(Eq(F,solve(leptin_equality,F)[0]))"
   ]
  },
  {
   "cell_type": "markdown",
   "id": "6a913727",
   "metadata": {},
   "source": [
    "This is the second line that we will draw over the phase portrait.\n",
    "\n",
    "This is pretty ugly expression."
   ]
  },
  {
   "cell_type": "markdown",
   "id": "c632c8d6",
   "metadata": {},
   "source": [
    "# Now we will turn to experiments in rodents in order estimate the parameters of these lines"
   ]
  },
  {
   "cell_type": "code",
   "execution_count": null,
   "id": "ab4e387e",
   "metadata": {},
   "outputs": [],
   "source": [
    "import os\n",
    "from scipy.io import loadmat\n",
    "from scipy.interpolate import interp1d\n",
    "import pandas as pd\n",
    "from scipy.optimize import curve_fit\n",
    "\n",
    "def_color = [x['color'] for x in plt.cycler(\"color\", plt.cm.Dark2.colors)]\n",
    "def_color = [def_color[i] for i in [0,1,5,2,3]]"
   ]
  },
  {
   "cell_type": "code",
   "execution_count": null,
   "id": "adff8ea7",
   "metadata": {},
   "outputs": [],
   "source": [
    "'''\n",
    "Experiment data of controlled feeding\n",
    "'''\n",
    "\n",
    "bw160    = loadmat('AlonBar/exp_feeding_harris/exp_160/bw160.mat')['Body_weight_160']\n",
    "bw100    = loadmat('AlonBar/exp_feeding_harris/exp_160/bw100.mat')['Body_weight_100']\n",
    "fi160    = loadmat('AlonBar/exp_feeding_harris/exp_160/fi160.mat')['Food_intake_160']\n",
    "fi100    = loadmat('AlonBar/exp_feeding_harris/exp_160/fi100.mat')['Food_intake_100'];fi100[6,1] = fi100[5,1]\n",
    "bw160_ts            = interp1d(bw160[:,0] - bw160[0,0],bw160[:,1])\n",
    "bw100_ts            = interp1d(bw100[:,0] - bw100[0,0],bw100[:,1])\n",
    "fi160_ts            = interp1d(fi160[:,0] - fi160[0,0],fi160[:,1])\n",
    "fi100_ts            = interp1d(fi100[:,0] - fi100[0,0],fi100[:,1])\n",
    "ts160               = np.arange(0,68)\n",
    "df160               = pd.DataFrame(index = ts160)\n",
    "df160['intake_160'] = fi160_ts(ts160); df160['intake_100'] = fi100_ts(ts160)\n",
    "df160['weight_160'] = bw160_ts(ts160); df160['weight_100'] = bw100_ts(ts160)\n",
    "ndf160              = pd.DataFrame(index = ts160)\n",
    "ndf160['weight']    = df160.weight_160/df160.weight_100\n",
    "ndf160['intake']    = df160.intake_160/df160.intake_100\n",
    "ndf160.index        = ndf160.index - ndf160.index[0]\n",
    "ndf160_             = ndf160.copy().iloc[8:].reset_index()\n",
    "df_weights_160                = pd.DataFrame(index = [0,4,12,39,'control'])\n",
    "df_weights_160['total']       = [288,269,254,244,235]\n",
    "df_weights_160['fat']         = [75,66,50,42,35]\n",
    "df_weights_160['protein']     = [57,53,51,51,49]\n",
    "df_weights_160['fat_percent'] = df_weights_160['fat']/df_weights_160['total']\n",
    "\n",
    "bw40     = loadmat('AlonBar/exp_feeding_harris/exp_40/bw40.mat') ['Body_weight_40']\n",
    "bw100    = loadmat('AlonBar/exp_feeding_harris/exp_40/bw100.mat')['Body_weight_100']\n",
    "fi40     = loadmat('AlonBar/exp_feeding_harris/exp_40/fi40.mat') ['Food_intake_40']\n",
    "fi100    = loadmat('AlonBar/exp_feeding_harris/exp_40/fi100.mat')['Food_intake_100']\n",
    "bw40_ts             = interp1d(bw40 [:,0] - bw40 [0,0],bw40 [:,1])\n",
    "bw100_ts            = interp1d(bw100[:,0] - bw100[0,0],bw100[:,1])\n",
    "fi40_ts             = interp1d(fi40 [:,0] - fi40 [0,0],fi40 [:,1])\n",
    "fi100_ts            = interp1d(fi100[:,0] - fi100[0,0],fi100[:,1])\n",
    "ts40                = np.arange(0,44)\n",
    "df40                = pd.DataFrame(index = ts40)\n",
    "df40['intake_40']   = fi40_ts(ts40); df40['intake_100'] = fi100_ts(ts40)\n",
    "df40['weight_40']   = bw40_ts(ts40); df40['weight_100'] = bw100_ts(ts40)\n",
    "ndf40               = pd.DataFrame(index = ts40)\n",
    "ndf40['weight']     = df40.weight_40/df40.weight_100\n",
    "ndf40['intake']     = df40.intake_40/df40.intake_100\n",
    "ndf40.index         = ndf40.index - ndf40.index[0]\n",
    "ndf40_              = ndf40.copy().iloc[12:].reset_index().drop(columns=['index'])\n",
    "df_weights_40                 = pd.DataFrame(index = [0,2,4,6,8,10,15,'control'])\n",
    "df_weights_40['total']        = [154,174,180,199,201,211,224,235]\n",
    "df_weights_40['fat']          = [3.6,10.5,16.5,21,22,25,26.5,35]\n",
    "df_weights_40['protein']      = [37,39,40,43,44,45,48,49]\n",
    "df_weights_40['fat_percent']  = df_weights_40['fat']/df_weights_40['total']\n",
    "\n",
    "plt.figure(figsize=(10,7))\n",
    "ax1,ax2,ax3,ax4 = plt.subplot(221),plt.subplot(222),plt.subplot(223),plt.subplot(224)\n",
    "\n",
    "df160['intake_160'].plot(color=def_color[3],marker='o',markeredgecolor='k',ax=ax1)\n",
    "df160['intake_100'].plot(color=def_color[3],marker='o',markeredgecolor='gray',ax=ax1)\n",
    "ax1.legend(['160% intake','100% intake']); ax1.set_xlabel('time (dyas)'); ax1.set_ylabel('food intake (grams)')\n",
    "\n",
    "df160['weight_160'].plot(color=def_color[2],marker='o',markeredgecolor='k',ax=ax2)\n",
    "df160['weight_100'].plot(color=def_color[2],marker='o',markeredgecolor='gray',ax=ax2)\n",
    "ax2.legend(['160% intake','100% intake']); ax2.set_xlabel('time (dyas)'); ax2.set_ylabel('weight (grams)')\n",
    "\n",
    "df40['intake_40'].plot(color=def_color[3],marker='o',markeredgecolor='k',ax=ax3)\n",
    "df40['intake_100'].plot(color=def_color[3],marker='o',markeredgecolor='gray',ax=ax3)\n",
    "ax3.legend(['40% intake','100% intake']); ax3.set_xlabel('time (dyas)'); ax3.set_ylabel('food intake (grams)')\n",
    "\n",
    "df40['weight_40'].plot(color=def_color[2],marker='o',markeredgecolor='k',ax=ax4)\n",
    "df40['weight_100'].plot(color=def_color[2],marker='o',markeredgecolor='gray',ax=ax4)\n",
    "ax4.legend(['40% intake','100% intake']); ax4.set_xlabel('time (dyas)'); ax4.set_ylabel('weight (grams)')\n",
    "\n",
    "plt.tight_layout();plt.show()"
   ]
  },
  {
   "cell_type": "markdown",
   "id": "27ad6ff7",
   "metadata": {},
   "source": [
    "# We normalize the experiment curves over the 100% intake control groups"
   ]
  },
  {
   "cell_type": "code",
   "execution_count": null,
   "id": "67d669b3",
   "metadata": {},
   "outputs": [],
   "source": [
    "fig  = plt.figure(figsize=(10,3))\n",
    "ax1  = plt.subplot(121)\n",
    "ax2  = plt.subplot(122)\n",
    "\n",
    "# panel A\n",
    "ax1.plot(list(ndf160_.index),ndf160_.weight,color=def_color[2],marker='o',markeredgecolor='k')\n",
    "ax1.plot(list(ndf160_.drop(index=[19,20]).index),ndf160_.drop(index=[19,20]).intake,color=def_color[3],marker='o',markeredgecolor='k')\n",
    "ax1.set_title('160% food intake'); ax1.set_xlabel('Time (days)'); ax1.set_ylabel('relative to control'); ax1.set_xlim([0,60])\n",
    "ax1.legend(['total weight','food intake'],fontsize=12)\n",
    "\n",
    "# panel B\n",
    "ax2.plot(list(ndf40_.index),ndf40_.weight,color=def_color[2],marker='o',markeredgecolor='k')\n",
    "ax2.plot(list(ndf40_.drop(index=15).index),ndf40_.drop(index=15).intake,color=def_color[3],marker='o',markeredgecolor='k')\n",
    "ax2.set_title('40% food intake'); ax2.set_xlabel('Time (days)'); ax2.set_ylabel('relative to control') ; ax2.set_xlim([0,31.5])\n",
    "plt.show()"
   ]
  },
  {
   "cell_type": "code",
   "execution_count": null,
   "id": "825b1177",
   "metadata": {},
   "outputs": [],
   "source": [
    "def scatter_diet_line_by_norm(by='total',ax=[],return_data=False,c=[]):\n",
    "    \n",
    "    diet_intake_40  = [df40.iloc[12].intake_40,(df40.iloc[12].intake_100 + df160.iloc[12].intake_100)/2]\n",
    "    diet_intake_160 = [df160.iloc[12].intake_160,(df40.iloc[12].intake_100 + df160.iloc[12].intake_100)/2]\n",
    "    diet_weight_40  = [df_weights_40.iloc[0][by],(df_weights_40.iloc[4][by] + df_weights_160.iloc[4][by])/2]\n",
    "    diet_weight_160 = [df_weights_160.iloc[0][by],(df_weights_40.iloc[4][by] + df_weights_160.iloc[4][by])/2]\n",
    "    \n",
    "    x_ = (df40.iloc[12].intake_100 + df160.iloc[12].intake_100)/2\n",
    "    y_ = (df_weights_40.iloc[4][by] + df_weights_160.iloc[4][by])/2\n",
    "    \n",
    "    if not ax:\n",
    "        ax= plt.subplot(111)\n",
    "    if not c:\n",
    "        ax.plot(diet_intake_40/x_,diet_weight_40/y_,'-o',lw=0,c=def_color[0],markeredgecolor='k',markersize=10)\n",
    "        ax.plot(diet_intake_160/x_,diet_weight_160/y_,'-o',lw=0,c=def_color[1],markeredgecolor='k',markersize=10)\n",
    "    else:\n",
    "        ax.plot(diet_intake_40/x_,diet_weight_40/y_,'-o',lw=0,c=c,markeredgecolor='k',markersize=10)\n",
    "        ax.plot(diet_intake_160/x_,diet_weight_160/y_,'-o',lw=0,c=c,markeredgecolor='k',markersize=10)\n",
    "        \n",
    "    if return_data:\n",
    "        return diet_intake_40/x_,diet_weight_40/y_,diet_intake_160/x_,diet_weight_160/y_\n",
    "    else:\n",
    "        return x_,y_"
   ]
  },
  {
   "cell_type": "code",
   "execution_count": null,
   "id": "13213b30",
   "metadata": {},
   "outputs": [],
   "source": [
    "plt.figure(figsize=(5,4))\n",
    "ax     = plt.subplot(111)\n",
    "x_,y_  = scatter_diet_line_by_norm(by='fat_percent',ax=ax,c=def_color[0])\n",
    "intfun = interp1d(df_weights_40.iloc[:-1].fat_percent.index,df_weights_40.iloc[:-1].fat_percent.values)\n",
    "ax.plot(fi40_ts(28+ np.array(range(16)))/x_,intfun(np.array(range(16))).astype(float)/y_,'o',c=def_color[1],lw=3,markeredgecolor='k',markersize=9)\n",
    "intfun = interp1d(df_weights_160.iloc[:-1].fat_percent.index,df_weights_160.iloc[:-1].fat_percent.values)\n",
    "ax.plot(fi160_ts(29+ np.array(range(39)))/x_,intfun(np.array(range(39))).astype(float)/y_,'o',c=def_color[1],lw=3,markeredgecolor='k',markersize=9)\n",
    "ax.set_xlabel('food intake\\nnormlized by control'); ax.set_ylabel('fat percent\\nnormlized by control')\n",
    "plt.show()"
   ]
  },
  {
   "cell_type": "code",
   "execution_count": null,
   "id": "db6ef54c",
   "metadata": {},
   "outputs": [],
   "source": [
    "# normalizing data points to plot over the normlaized phase portriat\n",
    "x_,y_         = scatter_diet_line_by_norm(by='fat_percent',ax=[],c=def_color[0])\n",
    "app_dat       = np.zeros((11,2))\n",
    "app_dat[:7,0] = fi40_ts(28+ df_weights_40.iloc[:-1].index.values.astype(int))/x_\n",
    "app_dat[7:,0] = fi160_ts(29+ df_weights_160.iloc[:-1].index.values.astype(int))/x_\n",
    "app_dat[:7,1] = df_weights_40.iloc[:-1].fat_percent/y_\n",
    "app_dat[7:,1] = df_weights_160.iloc[:-1].fat_percent/y_\n",
    "diet_dat      = scatter_diet_line_by_norm(by='fat_percent',ax=[],c=def_color[0],return_data=True)\n",
    "diet_dat      = np.array([dat[0] for dat in diet_dat]).reshape((2,2)); plt.close()\n",
    "\n",
    "# curve fitting the lines to the datapoints\n",
    "def norm_diet(u,a,b):\n",
    "    return a*u+b\n",
    "\n",
    "def norm_appetite(u,A,ks,n):\n",
    "    return A*(1/u) *(ks/u-1)**(1/n)\n",
    "\n",
    "diet_pars    , cov = curve_fit(norm_diet, diet_dat[:,0], diet_dat[:,1]) # u0 in range 0-1\n",
    "appetite_pars, cov = curve_fit(norm_appetite, app_dat[:,0], app_dat[:,1],bounds=(1,np.inf))# umax,n in bounds 1->inf\n",
    "app_pars_sd        = np.sqrt(np.diag(cov))\n",
    "\n",
    "\n",
    "plt.figure(figsize=(5,4))\n",
    "ax = plt.subplot(111)\n",
    "\n",
    "x_,y_  = scatter_diet_line_by_norm(by='fat_percent',ax=ax,c=def_color[0])\n",
    "intfun = interp1d(df_weights_40.iloc[:-1].fat_percent.index,df_weights_40.iloc[:-1].fat_percent.values)\n",
    "ax.plot(fi40_ts(28+ np.array(range(16)))/x_,intfun(np.array(range(16))).astype(float)/y_,'o',c=def_color[1],lw=3,markeredgecolor='k',markersize=9)\n",
    "intfun = interp1d(df_weights_160.iloc[:-1].fat_percent.index,df_weights_160.iloc[:-1].fat_percent.values)\n",
    "ax.plot(fi160_ts(29+ np.array(range(39)))/x_,intfun(np.array(range(39))).astype(float)/y_,'o',c=def_color[1],lw=3,markeredgecolor='k',markersize=9)\n",
    "\n",
    "u_range = np.arange(0.2,2,0.1)\n",
    "diet_   = [norm_diet(u_,diet_pars[0],diet_pars[1]) for u_ in u_range]\n",
    "ax.plot(u_range,diet_,c=def_color[0],zorder=-4,ls='-',lw=3,alpha=0.3)\n",
    "\n",
    "u_range  = np.array([appetite_pars[1] + i*app_pars_sd[1] for i in np.arange(-15,1+0.01,0.01)])\n",
    "appe_    = [norm_appetite(u_,appetite_pars[0],appetite_pars[1],appetite_pars[2]) for u_ in u_range]\n",
    "appe_p   = [norm_appetite(u_,appetite_pars[0]+app_pars_sd[0],appetite_pars[1]+app_pars_sd[1],appetite_pars[2]+app_pars_sd[2]) for u_ in u_range]\n",
    "appe_n   = [norm_appetite(u_,appetite_pars[0]-app_pars_sd[0],appetite_pars[1]-app_pars_sd[1],appetite_pars[2]-app_pars_sd[2]) for u_ in u_range]\n",
    "\n",
    "ax.plot(u_range,appe_,c=def_color[1],zorder=-4,ls='-',lw=3,alpha=0.3)\n",
    "ax.plot(u_range,appe_p,c=def_color[1],zorder=-4,ls='-',lw=1,alpha=0.3)\n",
    "ax.plot(u_range,appe_n,c=def_color[1],zorder=-4,ls='-',lw=1,alpha=0.3)\n",
    "ax.fill_between(u_range,appe_n,appe_p,color=def_color[1],alpha=0.3)\n",
    "midx = np.argmin(np.abs((u_range - (appetite_pars[1]-app_pars_sd[1])))) + 5\n",
    "ax.fill_between(u_range[midx:],appe_p[midx:],color=def_color[1],alpha=0.3)\n",
    "ax.set_xlabel('food intake\\nnormlized by control'); ax.set_ylabel('fat percent\\nnormlized by control')\n",
    "ax.set_ylim([0,2.1]); ax.set_xlim([0.3,1.7]); ax.set_xticks([0.5,1,1.5]); ax.set_yticks([0,0.5,1,1.5,2])\n",
    "plt.show()"
   ]
  },
  {
   "cell_type": "markdown",
   "id": "710f46c1",
   "metadata": {},
   "source": [
    "We find estimation for $n$"
   ]
  },
  {
   "cell_type": "code",
   "execution_count": null,
   "id": "aad24969",
   "metadata": {},
   "outputs": [],
   "source": [
    "display(Eq(n,int(appetite_pars[2])))"
   ]
  },
  {
   "cell_type": "markdown",
   "id": "7f2f4e36",
   "metadata": {},
   "source": [
    "This suggests a very steep relation between Leptin and Food intake\n",
    "\n",
    "## $u = \\frac{u_{max}}{1+(L/K_L)^7}$"
   ]
  },
  {
   "cell_type": "markdown",
   "id": "8db0e4e9",
   "metadata": {},
   "source": [
    "#### We can use this fact to simplify our model!!\n",
    "We previously had this food intake line:"
   ]
  },
  {
   "cell_type": "code",
   "execution_count": null,
   "id": "ccc33abe",
   "metadata": {},
   "outputs": [],
   "source": [
    "u_line = solve(leptin_equality,F)[0]\n",
    "display(Eq(F,u_line))"
   ]
  },
  {
   "cell_type": "markdown",
   "id": "aa8d60da",
   "metadata": {},
   "source": [
    "We will use the approximation that $n->\\inf$. \n",
    "\n",
    "This is valid because $n=7$ is very high for hill function, and almost identical to hill function with $n->\\inf$\n",
    "\n",
    "In sympy, we can have get this approximation by using '.limit()'"
   ]
  },
  {
   "cell_type": "code",
   "execution_count": null,
   "id": "81d2c20c",
   "metadata": {},
   "outputs": [],
   "source": [
    
    "u_line_ninf = (u_line.subs(kl**n,1)*kl).limit(n,oo)",
    "\n",
    "display(Eq(F,u_line_ninf))"
   ]
  },
  {
   "cell_type": "markdown",
   "id": "29098746",
   "metadata": {},
   "source": [
    "There is actually another limit to this line. Beacuse if $u = u_{max}, F = 0 $"
   ]
  },
  {
   "cell_type": "markdown",
   "id": "0ed64aa1",
   "metadata": {},
   "source": [
    "# The phase portrait of the simplified system is: "
   ]
  },
  {
   "cell_type": "code",
   "execution_count": null,
   "id": "70aa709e",
   "metadata": {},
   "outputs": [],
   "source": [
    "def get_numeric_nullclines_func(subs):\n",
    "    app_ninf          = (bl*kl/(al*u))\n",
    "    Fc                = float(app_ninf.subs(u,umax).subs(subs))\n",
    "    diet_line_exp     = solve(dF,u)[0]\n",
    "    appetite_line_exp = solve(app_ninf - F,u)[0]\n",
    "    fstst_exp         = solve(Eq(diet_line_exp,appetite_line_exp),F)[0]\n",
    "    ustst_exp         = diet_line_exp.subs(F,fstst_exp).simplify()\n",
    "    stst              = [ustst_exp.subs(subs),fstst_exp.subs(subs)]\n",
    "    null1             = lambdify(F,solve(dF,u)[0].subs(subs))\n",
    "    null2_semi        = lambdify(F,solve(app_ninf - F,u)[0].subs(subs))\n",
    "\n",
    "    def null2(F): \n",
    "        res = []\n",
    "        for f in F:\n",
    "            if f>Fc:\n",
    "                res.append(null2_semi(f))\n",
    "            else:\n",
    "                 res.append(float(subs[umax]))\n",
    "        return np.array(res)\n",
    "    return null1,null2,stst\n",
    "\n",
    "def fmt_ax(ax,subs):\n",
    "    ax.set_ylim([0,float(solve(dF,F)[0].subs(subs).subs(u,subs[umax]))]); \n",
    "    ax.set_xlim([0,subs[umax]*1.1])\n",
    "    ax.set_xticks([])\n",
    "    ax.set_yticks([])\n",
    "    ax.set_ylabel('Fat, $F$',fontsize=20)\n",
    "    ax.set_xlabel('Food intake, ${u}$',fontsize=20) \n",
    "    \n",
    "aps_k     = dict(arrowstyle=\"<-\",color='k'         ,shrinkA=5,shrinkB=10,connectionstyle=\"arc3,rad=0.\"  ,lw=3)\n"
   ]
  },
  {
   "cell_type": "code",
   "execution_count": null,
   "id": "aab449eb",
   "metadata": {},
   "outputs": [],
   "source": [
    "plt.figure(figsize=(9,7))\n",
    "ax = plt.subplot(111)\n",
    "\n",
    "subs    = {af:0.01,bf:0.025,al:1,bl:1,be:0.00625,kl:0.5,umax:2}\n",
    "f_range = np.linspace(0,2*float(solve(dF,F)[0].subs(subs).subs(u,subs[umax])),num=1000)\n",
    "\n",
    "null1,null2,stst = get_numeric_nullclines_func(subs)\n",
    "fc = ((kl*bl)/(al*umax)).subs(subs)\n",
    "\n",
    "ax.plot(null1(f_range),f_range,color=def_color[0],lw=4)\n",
    "ax.plot(null2(f_range),f_range,color=def_color[1],lw=4)\n",
    "ax.scatter(stst[0],stst[1],s=200,color='gray',zorder=4,edgecolor='k',lw=3)\n",
    "ax.scatter(subs[umax],fc,color=def_color[1],zorder=5,s=200,edgecolor='k',lw=3)\n",
    "ax.plot([0,subs[umax]],[fc,fc],lw=2,ls='--',color='k',zorder=-5)\n",
    "fmt_ax(ax,subs); ax.set_ylim([0,1]);ax.set_xlim([0,3])\n",
    "\n",
    "ax.annotate(xy = [0.47,0.5],xycoords='axes fraction',text='Operating pt',fontsize=16,ha='center')\n",
    "ax.annotate(xy = [0.49,0.5],xytext=[0.49,0.37],xycoords='axes fraction',text='',arrowprops=aps_k,zorder=4)\n",
    "\n",
    "ax.annotate(xy = [0.2,0.28],xycoords='axes fraction',text='Fat critical level, $F_c$',fontsize=16,ha='center')\n",
    "ax.annotate(xy = [0.85,0.2],xycoords='axes fraction',text='Below $F_c$\\nIntake is maximal',fontsize=15,ha='center')\n",
    "ax.annotate(xy = [0.9,0.65],xycoords='axes fraction',text='Diet line'    ,fontsize=17,ha='center')\n",
    "ax.annotate(xy = [0.4,0.85],xycoords='axes fraction',text='Appetite line',fontsize=17,ha='center')\n",
    "ax.annotate(xy = [0.4,0.83],xytext=[0.25,0.7],xycoords='axes fraction',text='',arrowprops=aps_k,zorder=4)\n",
    "ax.annotate(xy = [0.9,0.68],xytext=[0.9,0.8],xycoords='axes fraction',text='',arrowprops=aps_k,zorder=4)\n",
    "plt.show()"
   ]
  }
 ],
 "metadata": {
  "kernelspec": {
   "display_name": "Python 3 (ipykernel)",
   "language": "python",
   "name": "python3"
  },
  "language_info": {
   "codemirror_mode": {
    "name": "ipython",
    "version": 3
   },
   "file_extension": ".py",
   "mimetype": "text/x-python",
   "name": "python",
   "nbconvert_exporter": "python",
   "pygments_lexer": "ipython3",
   "version": "3.7.11"
  }
 },
 "nbformat": 4,
 "nbformat_minor": 5
}
