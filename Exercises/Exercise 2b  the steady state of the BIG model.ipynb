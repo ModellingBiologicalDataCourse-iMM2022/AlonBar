{
 "cells": [
  {
   "cell_type": "markdown",
   "id": "4016f237",
   "metadata": {},
   "source": [
    "# Exercise 2b the steady state of the BIG model"
   ]
  },
  {
   "cell_type": "code",
   "execution_count": null,
   "id": "7798a929",
   "metadata": {},
   "outputs": [],
   "source": [
    "from sympy import * # importing sympy to python"
   ]
  },
  {
   "cell_type": "markdown",
   "id": "c1de0bce",
   "metadata": {},
   "source": [
    "##### Using sympy, find the steady state of the BIG model:\n",
    "\n",
    "1. Write down the equations for $\\frac{dG}{dt}$,$\\frac{dI}{dt}$, use $f(G) = qG$.\n",
    "2. Add a third equations for beta-cells: $\\frac{dB}{dt} = pB(G-G_0)$\n",
    "3. Use 'solve' to find the steady state of this system of 3-differential equations "
   ]
  },
  {
   "cell_type": "code",
   "execution_count": null,
   "id": "38709127",
   "metadata": {},
   "outputs": [],
   "source": []
  }
 ],
 "metadata": {
  "hide_input": false,
  "kernelspec": {
   "display_name": "Python 3 (ipykernel)",
   "language": "python",
   "name": "python3"
  },
  "language_info": {
   "codemirror_mode": {
    "name": "ipython",
    "version": 3
   },
   "file_extension": ".py",
   "mimetype": "text/x-python",
   "name": "python",
   "nbconvert_exporter": "python",
   "pygments_lexer": "ipython3",
   "version": "3.7.11"
  }
 },
 "nbformat": 4,
 "nbformat_minor": 5
}
