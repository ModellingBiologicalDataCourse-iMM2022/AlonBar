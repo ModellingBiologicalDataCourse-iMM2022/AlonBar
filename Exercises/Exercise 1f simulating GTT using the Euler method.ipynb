{
 "cells": [
  {
   "cell_type": "markdown",
   "id": "f8cab366",
   "metadata": {},
   "source": [
    "# Exercise 1f simulating GTT using the Euler method"
   ]
  },
  {
   "cell_type": "code",
   "execution_count": null,
   "id": "037a3b01",
   "metadata": {},
   "outputs": [],
   "source": [
    "import numpy as np\n",
    "import pandas as pd\n",
    "import matplotlib.pyplot as plt"
   ]
  },
  {
   "cell_type": "markdown",
   "id": "6c8f5b4a",
   "metadata": {},
   "source": [
    "## See the function and example below to simulate GTT\n",
    "This is a numeric simulation, every parameter has a numeric value, and thus we won't use sympy"
   ]
  },
  {
   "cell_type": "code",
   "execution_count": null,
   "id": "c8e01d30",
   "metadata": {},
   "outputs": [],
   "source": [
    "def Euler_simulate_glucose_insulin(gamma=1,m=1,B=1,q=1,s=1,dt=1/60,sim_length=6): \n",
    "    # We use arbitrary values for the parameters\n",
    "    \n",
    "    sim_time   = np.arange(0,sim_length,dt)\n",
    "\n",
    "    # using these parameters, we can calulcate the steady state of the system\n",
    "    # We will use the steady state of the system as the inital condition\n",
    "    G0 = np.sqrt((gamma*m)/(B*q*s))\n",
    "    I0 = np.sqrt((B*m*q)/(gamma*s))\n",
    "\n",
    "    sim_result = []\n",
    "    G          = G0\n",
    "    I          = I0\n",
    "    for t in sim_time:\n",
    "        if t < 0.5: # we give pulse of glucose for the first half hour\n",
    "            m = 2\n",
    "        else:\n",
    "            m = 1\n",
    "\n",
    "        dG = m      - s*I*G\n",
    "        dI = B*q*G  - gamma*I\n",
    "\n",
    "        G  = G + dG*dt\n",
    "        I  = I + dI*dt\n",
    "        sim_result.append([G,I])\n",
    "        \n",
    "    # I store the simulation result in pandas DataFrame because we can plot it easly\n",
    "    sim = pd.DataFrame(sim_result,columns =['G','I'],index=sim_time) \n",
    "    return sim"
   ]
  },
  {
   "cell_type": "markdown",
   "id": "5939bcab",
   "metadata": {},
   "source": [
    "#### With this function we can easly simulate the dynamics and compare different values for the parameters"
   ]
  },
  {
   "cell_type": "code",
   "execution_count": null,
   "id": "b76ac449",
   "metadata": {},
   "outputs": [],
   "source": [
    "Euler_simulate_glucose_insulin(sim_length=6,dt=1/60).plot()\n",
    "plt.xlabel('time (hours)'); plt.show()"
   ]
  },
  {
   "cell_type": "markdown",
   "id": "8122b7ae",
   "metadata": {},
   "source": [
    "#### If we will use time jumps that are too big, the method becomes inaccurate"
   ]
  },
  {
   "cell_type": "code",
   "execution_count": null,
   "id": "46bfca03",
   "metadata": {},
   "outputs": [],
   "source": [
    "Euler_simulate_glucose_insulin(sim_length=6,dt=1/2).plot()\n",
    "plt.xlabel('time (hours)'); plt.show()"
   ]
  },
  {
   "cell_type": "markdown",
   "id": "2d2e102d",
   "metadata": {},
   "source": [
    "### What happens to the dynamics if $s$ is low?"
   ]
  },
  {
   "cell_type": "code",
   "execution_count": null,
   "id": "15b5a8e0",
   "metadata": {},
   "outputs": [],
   "source": [
    "Euler_simulate_glucose_insulin(s=0.2).plot()\n",
    "plt.xlabel('time (hours)'); plt.show()"
   ]
  },
  {
   "cell_type": "markdown",
   "id": "f4438893",
   "metadata": {},
   "source": [
    "### Change some parameters and observe the new dynamics"
   ]
  },
  {
   "cell_type": "code",
   "execution_count": null,
   "id": "82a52610",
   "metadata": {},
   "outputs": [],
   "source": [
    "Euler_simulate_glucose_insulin().plot()\n",
    "plt.xlabel('time (hours)'); plt.show()"
   ]
  },
  {
   "cell_type": "code",
   "execution_count": null,
   "id": "10590cc4",
   "metadata": {},
   "outputs": [],
   "source": [
    "Euler_simulate_glucose_insulin().plot()\n",
    "plt.xlabel('time (hours)'); plt.show()"
   ]
  },
  {
   "cell_type": "code",
   "execution_count": null,
   "id": "44cc51f2",
   "metadata": {},
   "outputs": [],
   "source": [
    "Euler_simulate_glucose_insulin().plot()\n",
    "plt.xlabel('time (hours)'); plt.show()"
   ]
  }
 ],
 "metadata": {
  "hide_input": false,
  "kernelspec": {
   "display_name": "Python 3 (ipykernel)",
   "language": "python",
   "name": "python3"
  },
  "language_info": {
   "codemirror_mode": {
    "name": "ipython",
    "version": 3
   },
   "file_extension": ".py",
   "mimetype": "text/x-python",
   "name": "python",
   "nbconvert_exporter": "python",
   "pygments_lexer": "ipython3",
   "version": "3.7.11"
  }
 },
 "nbformat": 4,
 "nbformat_minor": 5
}
