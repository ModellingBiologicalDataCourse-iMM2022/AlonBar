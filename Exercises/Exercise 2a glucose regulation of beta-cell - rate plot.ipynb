{
 "cells": [
  {
   "cell_type": "markdown",
   "id": "0f2b9b6e",
   "metadata": {},
   "source": [
    "# Exercise 2a glucose regulation of beta-cell - rate plot"
   ]
  },
  {
   "cell_type": "code",
   "execution_count": null,
   "id": "1daf740d",
   "metadata": {},
   "outputs": [],
   "source": [
    "import numpy as np\n",
    "import pandas as pd\n",
    "import matplotlib.pyplot as plt"
   ]
  },
  {
   "cell_type": "markdown",
   "id": "13f69742",
   "metadata": {},
   "source": [
    "#### Below are functions for the proliferation and removal rates\n",
    "#### See the example below to draw the rate plot diagram for glucose values in the range [0,25]"
   ]
  },
  {
   "cell_type": "code",
   "execution_count": null,
   "id": "e97d3924",
   "metadata": {},
   "outputs": [],
   "source": [
    "def death_rate(g):\n",
    "    return (5**15/(5**15+g**15))\n",
    "\n",
    "def prolif_rate(g):\n",
    "    return 1 - 5/(5+g)"
   ]
  },
  {
   "cell_type": "code",
   "execution_count": null,
   "id": "b90b870d",
   "metadata": {
    "scrolled": true
   },
   "outputs": [],
   "source": [
    "g_range = np.arange(0,25,0.1)\n",
    "\n",
    "ax = plt.subplot(111)\n",
    "ax.plot(g_range,death_rate(g_range))\n",
    "ax.plot(g_range,prolif_rate(g_range))\n",
    "ax.set_title('B cells rate plot')\n",
    "ax.set_xlabel('Glucose'); ax.set_xlim([0,25])\n",
    "ax.set_yticks([])\n",
    "ax.legend(['death rate','prolif. rate'])\n",
    "plt.show()"
   ]
  },
  {
   "cell_type": "markdown",
   "id": "d2ce054d",
   "metadata": {},
   "source": [
    "### As we get old, beta-cell proliferation decrease.  Assume that the old proliferation rate is 50% of the young:\n",
    "\n",
    "#### Plot again the diagram above (copy-paste the code)\n",
    "#### Add a proliferation curve for the old\n",
    "What happens to the fixed point when we are old?"
   ]
  },
  {
   "cell_type": "code",
   "execution_count": null,
   "id": "e7a77b8e",
   "metadata": {},
   "outputs": [],
   "source": []
  },
  {
   "cell_type": "markdown",
   "id": "159b5ad2",
   "metadata": {},
   "source": [
    "\n",
    "### In early stage type-1 diabetes, immune cells attack and kill beta-cells. Assuming that the killing is constant and independent of glucose, add 0.2 to the death rate curve\n",
    "#### Plot again the diagram above (copy-paste)\n",
    "#### Add a removal curve for early stage type-1 diabetes\n",
    "What happens to the fixed point in early stage type-1 diabetes?"
   ]
  },
  {
   "cell_type": "code",
   "execution_count": null,
   "id": "0a74a14a",
   "metadata": {},
   "outputs": [],
   "source": []
  },
  {
   "cell_type": "markdown",
   "id": "a9b4aa06",
   "metadata": {},
   "source": [
    "#### What is the main feature that provides tight regulation of glucose around 5mM?\n"
   ]
  }
 ],
 "metadata": {
  "hide_input": false,
  "kernelspec": {
   "display_name": "Python 3 (ipykernel)",
   "language": "python",
   "name": "python3"
  },
  "language_info": {
   "codemirror_mode": {
    "name": "ipython",
    "version": 3
   },
   "file_extension": ".py",
   "mimetype": "text/x-python",
   "name": "python",
   "nbconvert_exporter": "python",
   "pygments_lexer": "ipython3",
   "version": "3.7.11"
  }
 },
 "nbformat": 4,
 "nbformat_minor": 5
}
