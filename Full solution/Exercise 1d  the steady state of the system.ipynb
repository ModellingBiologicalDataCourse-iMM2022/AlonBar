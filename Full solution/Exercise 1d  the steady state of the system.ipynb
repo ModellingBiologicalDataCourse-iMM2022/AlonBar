{
 "cells": [
  {
   "cell_type": "markdown",
   "id": "0da03270",
   "metadata": {},
   "source": [
    "# Exercise 1d -  calculate the steady state of the system"
   ]
  },
  {
   "cell_type": "code",
   "execution_count": 1,
   "id": "22faa36d",
   "metadata": {},
   "outputs": [],
   "source": [
    "from sympy import *"
   ]
  },
  {
   "cell_type": "markdown",
   "id": "812dfc2f",
   "metadata": {},
   "source": [
    "#### Write the differential equations for glucose and insulin using $f(G) = qG$:\n",
    "\n",
    "$\\frac{dG}{dt} = m - sIG$\n",
    "\n",
    "$\\frac{dI}{dt} = qBG - \\gamma I$\n",
    "\n",
    "#### Use solve in order to find the steady state of the system"
   ]
  },
  {
   "cell_type": "code",
   "execution_count": 2,
   "id": "20e4ed9a",
   "metadata": {},
   "outputs": [
    {
     "data": {
      "text/latex": [
       "$\\displaystyle G = \\frac{\\sqrt{\\gamma} \\sqrt{m}}{\\sqrt{B} \\sqrt{q} \\sqrt{s}}$"
      ],
      "text/plain": [
       "Eq(G, sqrt(gamma)*sqrt(m)/(sqrt(B)*sqrt(q)*sqrt(s)))"
      ]
     },
     "metadata": {},
     "output_type": "display_data"
    },
    {
     "data": {
      "text/latex": [
       "$\\displaystyle I = \\frac{\\sqrt{B} \\sqrt{m} \\sqrt{q}}{\\sqrt{\\gamma} \\sqrt{s}}$"
      ],
      "text/plain": [
       "Eq(I, sqrt(B)*sqrt(m)*sqrt(q)/(sqrt(gamma)*sqrt(s)))"
      ]
     },
     "metadata": {},
     "output_type": "display_data"
    }
   ],
   "source": [
    "m,s,I,G,q,B,gamma     = symbols('m,s,I,G,q,B,gamma',positive=True)\n",
    "\n",
    "dG    = m     - s*I*G\n",
    "dI    = q*B*G - gamma*I\n",
    "\n",
    "Gst,Ist = solve([dG,dI],[G,I])[0]\n",
    "\n",
    "display(Eq(G,Gst))\n",
    "display(Eq(I,Ist))"
   ]
  }
 ],
 "metadata": {
  "kernelspec": {
   "display_name": "Python 3 (ipykernel)",
   "language": "python",
   "name": "python3"
  },
  "language_info": {
   "codemirror_mode": {
    "name": "ipython",
    "version": 3
   },
   "file_extension": ".py",
   "mimetype": "text/x-python",
   "name": "python",
   "nbconvert_exporter": "python",
   "pygments_lexer": "ipython3",
   "version": "3.7.11"
  }
 },
 "nbformat": 4,
 "nbformat_minor": 5
}
