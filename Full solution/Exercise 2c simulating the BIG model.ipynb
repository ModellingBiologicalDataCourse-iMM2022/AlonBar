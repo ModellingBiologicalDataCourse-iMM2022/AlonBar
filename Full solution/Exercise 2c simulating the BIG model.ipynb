{
 "cells": [
  {
   "cell_type": "markdown",
   "id": "84d05167",
   "metadata": {},
   "source": [
    "# Exercise 2c BIG model response to change in insulin sensitivity"
   ]
  },
  {
   "cell_type": "code",
   "execution_count": 1,
   "id": "f23c8dc6",
   "metadata": {},
   "outputs": [],
   "source": [
    "from sympy import *\n",
    "import numpy as np\n",
    "import matplotlib.pyplot as plt"
   ]
  },
  {
   "cell_type": "markdown",
   "id": "f02c0835",
   "metadata": {},
   "source": [
    "### Simulate the BIG model response to change in insulin sensitivity over period of months:"
   ]
  },
  {
   "cell_type": "markdown",
   "id": "b32ca51c",
   "metadata": {},
   "source": [
    "#### We start by writing the model's equations"
   ]
  },
  {
   "cell_type": "code",
   "execution_count": 2,
   "id": "b3a87d11",
   "metadata": {},
   "outputs": [],
   "source": [
    "m,s,I,G,q,B,gamma,G0,p = symbols('m,s,I,G,q,B,gamma,G_0,p',positive=True)\n",
    "\n",
    "dG    = m     - s*I*G\n",
    "dI    = B*q*G - gamma*I\n",
    "dB    = B*p*(G-G0)"
   ]
  },
  {
   "cell_type": "markdown",
   "id": "37dde72a",
   "metadata": {},
   "source": [
    "#### We want to simulate what happens if insulin sensitivity suddenly drops\n",
    "We will simulate the model for 200 days\n",
    "\n",
    "We will use the following parameters: $m=1,G_0=1,q=1,\\gamma=1,p=0.003$. $p$ sets the turnover rate of beta-cells which is much slower insulin\n",
    "\n",
    "We will simulate that $s$ suddenly drops by 50%:\n",
    "prior to the change in $s$, the system was at steady state:\n",
    "* Use $s=1$ to calculate the steady state, this steady state is the inital condition of the simulation\n",
    "* Use $s=0.5$ to simulate the model\n",
    "\n"
   ]
  },
  {
   "cell_type": "markdown",
   "id": "30fe34d4",
   "metadata": {},
   "source": [
    "### Follow the code below:"
   ]
  },
  {
   "cell_type": "markdown",
   "id": "20bc02c2",
   "metadata": {},
   "source": [
    "#### When we are simulating two processes with major difference in timescale, Euler method becomes either slow or inaccurate.\n",
    "#### We use a different method to integrate the ODEs, using scipy's 'odeint' function (ordinary differntial equation integrator)\n",
    "\n",
    "#### Before we dive in to the code of the simualtion, lets get familiar with two new sympy functions: 'Matrix' and 'lambdify'"
   ]
  },
  {
   "cell_type": "markdown",
   "id": "8b5f12e4",
   "metadata": {},
   "source": [
    "We use 'Matrix' in order to hold all three equations in one variable"
   ]
  },
  {
   "cell_type": "code",
   "execution_count": 3,
   "id": "0963fc36",
   "metadata": {},
   "outputs": [
    {
     "data": {
      "text/latex": [
       "$\\displaystyle \\left[\\begin{matrix}- G I s + m\\\\B G q - I \\gamma\\\\B p \\left(G - G_{0}\\right)\\end{matrix}\\right]$"
      ],
      "text/plain": [
       "Matrix([\n",
       "[     -G*I*s + m],\n",
       "[B*G*q - I*gamma],\n",
       "[  B*p*(G - G_0)]])"
      ]
     },
     "metadata": {},
     "output_type": "display_data"
    }
   ],
   "source": [
    "model      = Matrix([dG,dI,dB])\n",
    "display(model)"
   ]
  },
  {
   "cell_type": "markdown",
   "id": "db0e1892",
   "metadata": {},
   "source": [
    "We store values for the parameters within a dictionary\n"
   ]
  },
  {
   "cell_type": "code",
   "execution_count": 4,
   "id": "44a224da",
   "metadata": {},
   "outputs": [],
   "source": [
    "ic_pars    = {gamma:1,m:1,q:1,p:0.003,G0:1,s:1} \n",
    "sim_pars   = {gamma:1,m:1,q:1,p:0.003,G0:1,s:0.5} "
   ]
  },
  {
   "cell_type": "markdown",
   "id": "55fed9de",
   "metadata": {},
   "source": [
    "We use '.subs()' in order to substitute the parameters with the numerical values:"
   ]
  },
  {
   "cell_type": "code",
   "execution_count": 5,
   "id": "3c3704c5",
   "metadata": {},
   "outputs": [
    {
     "data": {
      "text/latex": [
       "$\\displaystyle \\left[\\begin{matrix}- G I + 1\\\\B G - I\\\\0.003 B \\left(G - 1\\right)\\end{matrix}\\right]$"
      ],
      "text/plain": [
       "Matrix([\n",
       "[       -G*I + 1],\n",
       "[        B*G - I],\n",
       "[0.003*B*(G - 1)]])"
      ]
     },
     "metadata": {},
     "output_type": "display_data"
    }
   ],
   "source": [
    "display(model.subs(ic_pars))"
   ]
  },
  {
   "cell_type": "markdown",
   "id": "8fecc68f",
   "metadata": {},
   "source": [
    "We use solve in order to find the steady state.\n",
    "\n",
    "Because we gave numercial values for the parameters, the steady state will also be numeric\n",
    "\n",
    "We will use this steady state as the intial condition"
   ]
  },
  {
   "cell_type": "code",
   "execution_count": 6,
   "id": "0857de34",
   "metadata": {},
   "outputs": [
    {
     "name": "stdout",
     "output_type": "stream",
     "text": [
      "The inital condition is:\n",
      "(1.00000000000000, 1.00000000000000, 1.00000000000000)\n"
     ]
    }
   ],
   "source": [
    "ic   = solve(model.subs(ic_pars),[G,I,B])[0]\n",
    "print('The inital condition is:')\n",
    "print(ic)"
   ]
  },
  {
   "cell_type": "markdown",
   "id": "ac0825cf",
   "metadata": {},
   "source": [
    "#### Great! we now have the inital conditions for our simualtion.\n",
    "#### Note that we never explicity wrote down the steady state. we used sympy all the way to get it from the parameters and the differntial equations"
   ]
  },
  {
   "cell_type": "markdown",
   "id": "af6c8942",
   "metadata": {},
   "source": [
    "### Next, we want a method to calulate $(dG,dI,dB)$ for a given set of parameter $(G,I,B)$"
   ]
  },
  {
   "cell_type": "markdown",
   "id": "ff753e3e",
   "metadata": {},
   "source": [
    "we can use '.subs()' in order to calculate the differential equations\n",
    "\n",
    "For example, if G=2, I=1, B=1, we can find dG,dI,dB:"
   ]
  },
  {
   "cell_type": "code",
   "execution_count": 7,
   "id": "36b6e9af",
   "metadata": {},
   "outputs": [
    {
     "data": {
      "text/latex": [
       "$\\displaystyle \\left[\\begin{matrix}0\\\\1\\\\0.003\\end{matrix}\\right]$"
      ],
      "text/plain": [
       "Matrix([\n",
       "[    0],\n",
       "[    1],\n",
       "[0.003]])"
      ]
     },
     "metadata": {},
     "output_type": "display_data"
    }
   ],
   "source": [
    "display(model.subs(sim_pars).subs({G:2,I:1,B:1}))"
   ]
  },
  {
   "cell_type": "markdown",
   "id": "dc0339ed",
   "metadata": {},
   "source": [
    "#### However, there is a better way: 'lambdify'"
   ]
  },
  {
   "cell_type": "markdown",
   "id": "e251d37b",
   "metadata": {},
   "source": [
    "lambdify takes our symbolic model and returns a python function:\n",
    "\n",
    "* The first argument is a list of the parameters that we want to use as input for the function\n",
    "* The second argument is a symbolic expression to turn into a function\n",
    "\n",
    "In the following example, we use lambdify in order to make a function 'func' that substracts 5 from a number:\n",
    "* $G - 5$ is the mathematical expression\n",
    "* $G$ is the input for the function"
   ]
  },
  {
   "cell_type": "code",
   "execution_count": 8,
   "id": "d9db1f25",
   "metadata": {},
   "outputs": [],
   "source": [
    "func = lambdify(G,G-5)"
   ]
  },
  {
   "cell_type": "markdown",
   "id": "2c1d9b94",
   "metadata": {},
   "source": [
    "When we pass 'func' the input $7$, it will return the solution of $G-5$ for $G=7$."
   ]
  },
  {
   "cell_type": "code",
   "execution_count": 9,
   "id": "4c6dc128",
   "metadata": {},
   "outputs": [
    {
     "data": {
      "text/plain": [
       "2"
      ]
     },
     "execution_count": 9,
     "metadata": {},
     "output_type": "execute_result"
    }
   ],
   "source": [
    "func(7)"
   ]
  },
  {
   "cell_type": "markdown",
   "id": "1c0d709c",
   "metadata": {},
   "source": [
    "'lambdify' can get more than one parameter, for example:"
   ]
  },
  {
   "cell_type": "code",
   "execution_count": 10,
   "id": "d9d44ea9",
   "metadata": {},
   "outputs": [],
   "source": [
    "func = lambdify([G,I],G-I)"
   ]
  },
  {
   "cell_type": "markdown",
   "id": "48006f51",
   "metadata": {},
   "source": [
    "When we pass 'func' the inputs $7,2$, it will return the solution of $G-I$ for $G=7,I=2$."
   ]
  },
  {
   "cell_type": "code",
   "execution_count": 11,
   "id": "dc77af69",
   "metadata": {},
   "outputs": [
    {
     "data": {
      "text/plain": [
       "5"
      ]
     },
     "execution_count": 11,
     "metadata": {},
     "output_type": "execute_result"
    }
   ],
   "source": [
    "func(7,2)"
   ]
  },
  {
   "cell_type": "markdown",
   "id": "fea5a40d",
   "metadata": {},
   "source": [
    "In addition, 'lambdify' can get more than expression:"
   ]
  },
  {
   "cell_type": "code",
   "execution_count": 12,
   "id": "6cd36120",
   "metadata": {},
   "outputs": [],
   "source": [
    "func = lambdify([G,I],[G-I,G+I])"
   ]
  },
  {
   "cell_type": "markdown",
   "id": "8664b260",
   "metadata": {},
   "source": [
    "When we pass 'func' the inputs $7,2$, it will return two solution. The first is for $G-I$, the sconde is for $G+I$"
   ]
  },
  {
   "cell_type": "code",
   "execution_count": 13,
   "id": "516f5eaf",
   "metadata": {},
   "outputs": [
    {
     "data": {
      "text/plain": [
       "[5, 9]"
      ]
     },
     "execution_count": 13,
     "metadata": {},
     "output_type": "execute_result"
    }
   ],
   "source": [
    "func(7,2)"
   ]
  },
  {
   "cell_type": "markdown",
   "id": "96818006",
   "metadata": {},
   "source": [
    "### Now we are ready to use 'lambdify' to calulate $(dG,dI,dB)$ for a given set of parameter $(G,I,B)$"
   ]
  },
  {
   "cell_type": "markdown",
   "id": "089ac260",
   "metadata": {},
   "source": [
    "'model.subs(sim_pars)' holds three symbolic expressions (𝑑𝐺,𝑑𝐼,𝑑𝐵) with numeric values for the parameters"
   ]
  },
  {
   "cell_type": "code",
   "execution_count": 14,
   "id": "fb7af4f3",
   "metadata": {},
   "outputs": [
    {
     "data": {
      "text/latex": [
       "$\\displaystyle \\left[\\begin{matrix}- 0.5 G I + 1\\\\B G - I\\\\0.003 B \\left(G - 1\\right)\\end{matrix}\\right]$"
      ],
      "text/plain": [
       "Matrix([\n",
       "[   -0.5*G*I + 1],\n",
       "[        B*G - I],\n",
       "[0.003*B*(G - 1)]])"
      ]
     },
     "metadata": {},
     "output_type": "display_data"
    }
   ],
   "source": [
    "display(model.subs(sim_pars))"
   ]
  },
  {
   "cell_type": "code",
   "execution_count": 15,
   "id": "7853d2de",
   "metadata": {},
   "outputs": [],
   "source": [
    "model_func = lambdify([G,I,B],model.subs(sim_pars))"
   ]
  },
  {
   "cell_type": "markdown",
   "id": "5c556e0a",
   "metadata": {},
   "source": [
    "For example, if G=2, I=1, B=1, We can find dG,dI,dB:"
   ]
  },
  {
   "cell_type": "code",
   "execution_count": 16,
   "id": "beb916e4",
   "metadata": {},
   "outputs": [
    {
     "data": {
      "text/plain": [
       "array([[0.   ],\n",
       "       [1.   ],\n",
       "       [0.003]])"
      ]
     },
     "execution_count": 16,
     "metadata": {},
     "output_type": "execute_result"
    }
   ],
   "source": [
    "model_func(2,1,1)"
   ]
  },
  {
   "cell_type": "markdown",
   "id": "428f1e9d",
   "metadata": {},
   "source": [
    "usually we add '.flat[:]' to get the result in a 1-d array:"
   ]
  },
  {
   "cell_type": "code",
   "execution_count": 17,
   "id": "86c7e73c",
   "metadata": {},
   "outputs": [
    {
     "data": {
      "text/plain": [
       "array([0.   , 1.   , 0.003])"
      ]
     },
     "execution_count": 17,
     "metadata": {},
     "output_type": "execute_result"
    }
   ],
   "source": [
    "model_func(2,1,1).flat[:]"
   ]
  },
  {
   "cell_type": "markdown",
   "id": "0194cebe",
   "metadata": {},
   "source": [
    "#### Altough it seems that we can get the same results with .subs() and lambdify,  using lambdify is much faster. But more importently, it enables us to pass our model into other python libraries."
   ]
  },
  {
   "cell_type": "markdown",
   "id": "b4196902",
   "metadata": {},
   "source": [
    "### Now we will see how to use lambdify in order to simulate the model:\n",
    "#### We build a simulation function around 'model_func'\n",
    "\n",
    "The simulation function must have the following form:\n",
    "\n",
    "First input  - list of the variables in the model $(G,I,B)$\n",
    "\n",
    "Second input - time $t$\n",
    "\n",
    "Returns      - list of the calculated change in each variable per $dt$ $(dG,dI,dB)$\n",
    "\n",
    "#### A generic form for this function is:"
   ]
  },
  {
   "cell_type": "code",
   "execution_count": 18,
   "id": "9935f47f",
   "metadata": {},
   "outputs": [],
   "source": [
    "def sim(y,t):\n",
    "    G,I,B    = y                         # y is the list of the varibales\n",
    "    dG,dI,dB = model_func(G,I,B).flat[:]\n",
    "    return dG,dI,dB "
   ]
  },
  {
   "cell_type": "markdown",
   "id": "be81603c",
   "metadata": {},
   "source": [
    "#### Like before, we start by defining the time-course of the simualtion"
   ]
  },
  {
   "cell_type": "code",
   "execution_count": 19,
   "id": "17098203",
   "metadata": {},
   "outputs": [],
   "source": [
    "sim_length = 200*24  # 200 days\n",
    "dt         = 1       # one hour\n",
    "sim_time   = np.arange(0,sim_length,dt)"
   ]
  },
  {
   "cell_type": "markdown",
   "id": "af0d9ef6",
   "metadata": {},
   "source": [
    "To simulate the model, we use 'odeint' (ordinary differntial equation integrator)"
   ]
  },
  {
   "cell_type": "code",
   "execution_count": 20,
   "id": "350799c7",
   "metadata": {},
   "outputs": [],
   "source": [
    "from scipy.integrate import odeint"
   ]
  },
  {
   "cell_type": "markdown",
   "id": "5c0fa8cd",
   "metadata": {},
   "source": [
    "'odeint' gets the simulation function, the intial conditions and the time-course"
   ]
  },
  {
   "cell_type": "code",
   "execution_count": 21,
   "id": "e6a13b72",
   "metadata": {},
   "outputs": [],
   "source": [
    "result = odeint(sim,ic,sim_time)"
   ]
  },
  {
   "cell_type": "markdown",
   "id": "8ea646fe",
   "metadata": {},
   "source": [
    "I store the simulation result in pandas DataFrame because we can plot it easly"
   ]
  },
  {
   "cell_type": "code",
   "execution_count": 22,
   "id": "68af99ba",
   "metadata": {},
   "outputs": [],
   "source": [
    "import pandas as pd"
   ]
  },
  {
   "cell_type": "code",
   "execution_count": 23,
   "id": "4eba3eab",
   "metadata": {},
   "outputs": [
    {
     "data": {
      "text/plain": [
       "<AxesSubplot:>"
      ]
     },
     "execution_count": 23,
     "metadata": {},
     "output_type": "execute_result"
    },
    {
     "data": {
      "image/png": "[encoded data removed]",
      "text/plain": [
       "<Figure size 432x288 with 1 Axes>"
      ]
     },
     "metadata": {
      "needs_background": "light"
     },
     "output_type": "display_data"
    }
   ],
   "source": [
    "result = pd.DataFrame(result,columns=['G','I','B'],index=sim_time/24)\n",
    "result.plot()"
   ]
  },
  {
   "cell_type": "markdown",
   "id": "c9e99837",
   "metadata": {},
   "source": [
    "#  ** deep sigh of relief  **\n",
    "# \n",
    "# \n",
    "# \n",
    "# \n",
    "# \n",
    "# \n",
    "# \n",
    "# "
   ]
  },
  {
   "cell_type": "markdown",
   "id": "e8b62fa3",
   "metadata": {},
   "source": [
    "### Together these steps look like this:"
   ]
  },
  {
   "cell_type": "code",
   "execution_count": 24,
   "id": "d4172071",
   "metadata": {},
   "outputs": [
    {
     "data": {
      "text/plain": [
       "<AxesSubplot:>"
      ]
     },
     "execution_count": 24,
     "metadata": {},
     "output_type": "execute_result"
    },
    {
     "data": {
      "image/png": "[encoded data removed]",
      "text/plain": [
       "<Figure size 432x288 with 1 Axes>"
      ]
     },
     "metadata": {
      "needs_background": "light"
     },
     "output_type": "display_data"
    }
   ],
   "source": [
    "ic_pars    = {gamma:1,m:1,q:1,p:0.003,G0:1,s:1} \n",
    "sim_pars   = {gamma:1,m:1,q:1,p:0.003,G0:1,s:0.5} \n",
    "\n",
    "model      = Matrix([dG,dI,dB])\n",
    "ic         = solve(model.subs(ic_pars),[G,I,B])[0]\n",
    "model_func = lambdify([G,I,B],model.subs(sim_pars))\n",
    "\n",
    "def sim(y,t):\n",
    "    G,I,B    = y\n",
    "    dG,dI,dB = model_func(G,I,B).flat[:]\n",
    "    return dG,dI,dB \n",
    "\n",
    "sim_length = 150*24  # 200 days\n",
    "dt         = 1       # one hour\n",
    "sim_time   = np.arange(0,sim_length,dt)\n",
    "result     = pd.DataFrame(odeint(sim,ic,sim_time),columns=['G','I','B'],index=sim_time/(24))\n",
    "\n",
    "result.plot()"
   ]
  },
  {
   "cell_type": "markdown",
   "id": "c6b4e6f8",
   "metadata": {},
   "source": [
    "# \n",
    "# "
   ]
  },
  {
   "cell_type": "markdown",
   "id": "a6aff603",
   "metadata": {},
   "source": [
    "### Simulate a drop in insulin sensitivity and three glucose tolerance tests:\n",
    "1. GTT before insulin sensitivity dropped.\n",
    "2. GTT shortly after sensitivity dropped.\n",
    "3. GTT long after sensitivity dropped.\n",
    "\n",
    "#### Use the provided functions 'get_m', get_s'  - they  will provide values $m$ and $s$ at different times:\n",
    "* For the first 50 days, insulin sensitivity $s=1$\n",
    "* at day 50, insulin sensitivity drops $s=0.2$\n",
    "* In addition, we give three 1-hour pulses of glucose. at days 10, 60 and 150\n",
    "* When using lambdify, the list of parameter to use as input should includ $m$ and $s$ - they are subject to change during the simualtion\n",
    "* When passing dictionary of parameter values, exclude $s,m$ - they are subject to change during the simualtion\n",
    "* When calculating the intial condition, use $m=1,s=1$\n",
    "\n",
    "Plot the simulation"
   ]
  },
  {
   "cell_type": "code",
   "execution_count": 25,
   "id": "f77ffe3d",
   "metadata": {},
   "outputs": [],
   "source": [
    "def get_m(t):\n",
    "    \n",
    "    t = np.ceil(t)\n",
    "    \n",
    "    if ((t >= 10*24) & (t <= 10*24 + 1)):\n",
    "        m = 2  \n",
    "    elif ((t >= 60*24) & (t <= 60*24 + 1)):\n",
    "        m = 2  \n",
    "    elif ((t >= 150*24) & (t <= 150*24 + 1)):\n",
    "        m = 2    \n",
    "    else:\n",
    "        m = 1\n",
    "        \n",
    "    return m\n",
    "\n",
    "def get_s(t):\n",
    "    \n",
    "    t = np.ceil(t)\n",
    "    \n",
    "    if t/24 > 50: # insulin sensitivity drops at day 50\n",
    "        s = 0.2\n",
    "    else:\n",
    "        s = 1     \n",
    "    return s"
   ]
  },
  {
   "cell_type": "code",
   "execution_count": 26,
   "id": "71d5d0d0",
   "metadata": {},
   "outputs": [
    {
     "data": {
      "image/png": "[encoded data removed]",
      "text/plain": [
       "<Figure size 432x288 with 1 Axes>"
      ]
     },
     "metadata": {
      "needs_background": "light"
     },
     "output_type": "display_data"
    }
   ],
   "source": [
    "pars       = {gamma:1,q:1,p:0.003,G0:1}\n",
    "model      = Matrix([dG,dI,dB]).subs(pars)\n",
    "ic         = solve(model.subs(s,1).subs(m,1),[G,I,B])[0]\n",
    "model_func = lambdify([G,I,B,s,m],model)\n",
    "\n",
    "def sim(y,t):\n",
    "    m        = get_m(t)\n",
    "    s        = get_s(t)\n",
    "    G,I,B    = y\n",
    "    dG,dI,dB = model_func(G,I,B,s,m).flat[:]\n",
    "    return dG,dI,dB \n",
    "\n",
    "sim_length = 200*24    # 200 days\n",
    "dt         = 1/60      # one minute\n",
    "sim_time   = np.arange(0,sim_length,dt)\n",
    "res        = pd.DataFrame(odeint(sim,ic,sim_time,tcrit=[24*10,24*60,24*150]),columns=['G','I','B'],index=sim_time/24)\n",
    "res.plot(); plt.show()"
   ]
  },
  {
   "cell_type": "markdown",
   "id": "2e5fe15a",
   "metadata": {},
   "source": [
    "### Using 'plot_GTTs' plot and observe the response to each GTT"
   ]
  },
  {
   "cell_type": "code",
   "execution_count": 27,
   "id": "06a448d6",
   "metadata": {},
   "outputs": [],
   "source": [
    "def plot_GTTs(res):\n",
    "    plt.figure(figsize=(12,4))\n",
    "    ax1  = plt.subplot(121)\n",
    "    g10  = res.loc[9.5:10.5].G.values\n",
    "    g60  = res.loc[59.5:60.5].G.values\n",
    "    g150 = res.loc[149.5:150.5].G.values\n",
    "    ax1.plot(g10)\n",
    "    ax1.plot(g60)\n",
    "    ax1.plot(g150)\n",
    "    ax1.set_ylabel('Glucose')\n",
    "    ax1.set_xlabel('time')\n",
    "    ax1.legend(['day 10', 'day 60', 'day 150'])\n",
    "    \n",
    "    ax2  = plt.subplot(122)\n",
    "    i10  = res.loc[9.5:10.5].I.values\n",
    "    i60  = res.loc[59.5:60.5].I.values\n",
    "    i150 = res.loc[149.5:150.5].I.values\n",
    "    ax2.plot(i10)\n",
    "    ax2.plot(i60)\n",
    "    ax2.plot(i150)\n",
    "    ax2.set_ylabel('Insulin')\n",
    "    ax2.set_xlabel('time')\n",
    "    ax2.legend(['day 10', 'day 60', 'day 150'])\n",
    "    plt.tight_layout(); plt.show()"
   ]
  },
  {
   "cell_type": "code",
   "execution_count": 28,
   "id": "e73f02b8",
   "metadata": {},
   "outputs": [
    {
     "data": {
      "image/png": "[encoded data removed]",
      "text/plain": [
       "<Figure size 864x288 with 2 Axes>"
      ]
     },
     "metadata": {
      "needs_background": "light"
     },
     "output_type": "display_data"
    }
   ],
   "source": [
    "plot_GTTs(res)"
   ]
  }
 ],
 "metadata": {
  "hide_input": false,
  "kernelspec": {
   "display_name": "Python 3 (ipykernel)",
   "language": "python",
   "name": "python3"
  },
  "language_info": {
   "codemirror_mode": {
    "name": "ipython",
    "version": 3
   },
   "file_extension": ".py",
   "mimetype": "text/x-python",
   "name": "python",
   "nbconvert_exporter": "python",
   "pygments_lexer": "ipython3",
   "version": "3.7.11"
  }
 },
 "nbformat": 4,
 "nbformat_minor": 5
}
