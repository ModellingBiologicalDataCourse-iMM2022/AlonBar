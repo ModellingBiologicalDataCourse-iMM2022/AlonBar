{
 "cells": [
  {
   "cell_type": "markdown",
   "id": "e6ad1494",
   "metadata": {},
   "source": [
    "# Exercise 1c -  solving the glucose and insulin lines"
   ]
  },
  {
   "cell_type": "code",
   "execution_count": 1,
   "id": "037a3b01",
   "metadata": {},
   "outputs": [],
   "source": [
    "from sympy import *"
   ]
  },
  {
   "cell_type": "markdown",
   "id": "2e40e909",
   "metadata": {},
   "source": [
    "#### We will start with a short introduction to 'solve'\n",
    "\n",
    "solve is a sympy function that solves equations\n",
    "\n",
    "solve assumes that the first argument is equal to zero, and finds values for the second argument that satisfies the equation:"
   ]
  },
  {
   "cell_type": "markdown",
   "id": "612c4bce",
   "metadata": {},
   "source": [
    "#### Lets have a look on few examples, for that reason, we will start by declaring a symbolic variable $X$"
   ]
  },
  {
   "cell_type": "code",
   "execution_count": 2,
   "id": "17c81b6e",
   "metadata": {},
   "outputs": [],
   "source": [
    "X = symbols('X')"
   ]
  },
  {
   "cell_type": "markdown",
   "id": "24f76dbc",
   "metadata": {},
   "source": [
    "#### In order to solve $X-5=0$:"
   ]
  },
  {
   "cell_type": "code",
   "execution_count": 3,
   "id": "d4347911",
   "metadata": {},
   "outputs": [
    {
     "data": {
      "text/plain": [
       "[5]"
      ]
     },
     "execution_count": 3,
     "metadata": {},
     "output_type": "execute_result"
    }
   ],
   "source": [
    "solve(X-5,X)"
   ]
  },
  {
   "cell_type": "markdown",
   "id": "64d9a38f",
   "metadata": {},
   "source": [
    "\n",
    "\n",
    "\n",
    "\n",
    "\n",
    "#### Lets have a look on another example, $(X-3)(X-m)=0$:\n",
    "To solve this, we first have declar another symbolic variable $m$"
   ]
  },
  {
   "cell_type": "code",
   "execution_count": 4,
   "id": "e68f6be8",
   "metadata": {},
   "outputs": [
    {
     "data": {
      "text/plain": [
       "[3, m]"
      ]
     },
     "execution_count": 4,
     "metadata": {},
     "output_type": "execute_result"
    }
   ],
   "source": [
    "m = symbols('m')\n",
    "\n",
    "solve((X-3)*(X-m),X)"
   ]
  },
  {
   "cell_type": "markdown",
   "id": "98094e6c",
   "metadata": {},
   "source": [
    "#### Lets have a look on another example, $X^2-4 =0 $:"
   ]
  },
  {
   "cell_type": "code",
   "execution_count": 5,
   "id": "7877ea1a",
   "metadata": {},
   "outputs": [
    {
     "data": {
      "text/plain": [
       "[-2, 2]"
      ]
     },
     "execution_count": 5,
     "metadata": {},
     "output_type": "execute_result"
    }
   ],
   "source": [
    "solve(X**2-4,X)"
   ]
  },
  {
   "cell_type": "markdown",
   "id": "f0296ec6",
   "metadata": {},
   "source": [
    "#### In biology we usually deal with variables that are non-negative, for exmaple - glucose blood concetration\n",
    "We can actually tell sympy that a symbolic variable is positive.\n",
    "Lets declare a positive symbol $G$"
   ]
  },
  {
   "cell_type": "code",
   "execution_count": 6,
   "id": "f961e835",
   "metadata": {},
   "outputs": [],
   "source": [
    "G = symbols('G',positive=True)"
   ]
  },
  {
   "cell_type": "markdown",
   "id": "0472bc33",
   "metadata": {},
   "source": [
    "#### If we will try to solve the  same equation above , $G^2-4 =0 $, sympy will ignor any negative solution"
   ]
  },
  {
   "cell_type": "code",
   "execution_count": 7,
   "id": "03c9e657",
   "metadata": {},
   "outputs": [
    {
     "data": {
      "text/plain": [
       "[2]"
      ]
     },
     "execution_count": 7,
     "metadata": {},
     "output_type": "execute_result"
    }
   ],
   "source": [
    "solve(G**2-4,G)"
   ]
  },
  {
   "cell_type": "markdown",
   "id": "a603e0f3",
   "metadata": {},
   "source": [
    "We find that there is only one solution $G=2$\n",
    "\n",
    "The other solution $G=-2$ is excluded by 'solve' because we declared $G$ as positive"
   ]
  },
  {
   "cell_type": "markdown",
   "id": "bb6c0022",
   "metadata": {},
   "source": [
    "## Now lets use 'solve' to solve $\\frac{dG}{dt}=0$\n",
    "$\\frac{dG}{dt} = m - sIG$"
   ]
  },
  {
   "cell_type": "markdown",
   "id": "17da1b2a",
   "metadata": {},
   "source": [
    "First, we express the differential equation using symbols"
   ]
  },
  {
   "cell_type": "code",
   "execution_count": 8,
   "id": "6aab06cf",
   "metadata": {},
   "outputs": [],
   "source": [
    "m,s,I,G     = symbols('m,s,I,G',positive =True) \n",
    "dG          = m - s*I*G"
   ]
  },
  {
   "cell_type": "markdown",
   "id": "397e61f5",
   "metadata": {},
   "source": [
    "Next, we use 'solve' to solve $\\frac{dG}{dt}=0$ for insulin:"
   ]
  },
  {
   "cell_type": "code",
   "execution_count": 9,
   "id": "dee02f35",
   "metadata": {},
   "outputs": [
    {
     "data": {
      "text/plain": [
       "[m/(G*s)]"
      ]
     },
     "execution_count": 9,
     "metadata": {},
     "output_type": "execute_result"
    }
   ],
   "source": [
    "solve(dG,I)"
   ]
  },
  {
   "cell_type": "markdown",
   "id": "99202074",
   "metadata": {},
   "source": [
    "'solve' returns a list of all the valid solutions. Here there is only one solution. \n",
    "\n",
    "We use [0] to get the first (and only) solution in the list"
   ]
  },
  {
   "cell_type": "code",
   "execution_count": 10,
   "id": "1538e45b",
   "metadata": {},
   "outputs": [
    {
     "data": {
      "text/latex": [
       "$\\displaystyle I = \\frac{m}{G s}$"
      ],
      "text/plain": [
       "Eq(I, m/(G*s))"
      ]
     },
     "metadata": {},
     "output_type": "display_data"
    }
   ],
   "source": [
    "glucose_line = solve(dG,I)[0]                           \n",
    "display(Eq(I,glucose_line))"
   ]
  },
  {
   "cell_type": "markdown",
   "id": "0d4087b5",
   "metadata": {},
   "source": [
    "## Solve $\\frac{dI}{dt}=0$  as function of insulin\n",
    "\n",
    "$\\frac{dI}{dt} = Bf(G) - \\gamma I$"
   ]
  },
  {
   "cell_type": "markdown",
   "id": "03faba44",
   "metadata": {},
   "source": [
    "First, express the differential equation for insulin using symbols\n",
    "\n",
    "Then, use 'solve' to solve this equation for insulin"
   ]
  },
  {
   "cell_type": "code",
   "execution_count": 11,
   "id": "f3c6879d",
   "metadata": {},
   "outputs": [
    {
     "data": {
      "text/latex": [
       "$\\displaystyle I = \\frac{B f{\\left(G \\right)}}{\\gamma}$"
      ],
      "text/plain": [
       "Eq(I, B*f(G)/\\gamma)"
      ]
     },
     "metadata": {},
     "output_type": "display_data"
    }
   ],
   "source": [
    "B,gamma = symbols('B,\\gamma',positive =True) \n",
    "fG      = Function('f')(G)\n",
    "dI      = B*fG - gamma*I\n",
    "\n",
    "insulin_line = solve(dI,I)[0]                           \n",
    "display(Eq(I,insulin_line))"
   ]
  }
 ],
 "metadata": {
  "hide_input": false,
  "kernelspec": {
   "display_name": "Python 3 (ipykernel)",
   "language": "python",
   "name": "python3"
  },
  "language_info": {
   "codemirror_mode": {
    "name": "ipython",
    "version": 3
   },
   "file_extension": ".py",
   "mimetype": "text/x-python",
   "name": "python",
   "nbconvert_exporter": "python",
   "pygments_lexer": "ipython3",
   "version": "3.7.11"
  }
 },
 "nbformat": 4,
 "nbformat_minor": 5
}
