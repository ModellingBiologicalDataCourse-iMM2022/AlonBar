{
 "cells": [
  {
   "cell_type": "markdown",
   "id": "4016f237",
   "metadata": {},
   "source": [
    "# Exercise 2b the steady state of the BIG model"
   ]
  },
  {
   "cell_type": "code",
   "execution_count": 1,
   "id": "7798a929",
   "metadata": {},
   "outputs": [],
   "source": [
    "from sympy import * # importing sympy to python"
   ]
  },
  {
   "cell_type": "markdown",
   "id": "c1de0bce",
   "metadata": {},
   "source": [
    "##### Using sympy, find the steady state of the BIG model:\n",
    "\n",
    "1. Write down the equations for $\\frac{dG}{dt}$,$\\frac{dI}{dt}$, use $f(G) = qG$.\n",
    "2. Add a third equations for beta-cells: $\\frac{dB}{dt} = pB(G-G_0)$\n",
    "3. Use 'solve' to find the steady state of this system of 3-differential equations "
   ]
  },
  {
   "cell_type": "code",
   "execution_count": 2,
   "id": "38709127",
   "metadata": {},
   "outputs": [
    {
     "data": {
      "text/latex": [
       "$\\displaystyle G = G_{0}$"
      ],
      "text/plain": [
       "Eq(G, G_0)"
      ]
     },
     "metadata": {},
     "output_type": "display_data"
    },
    {
     "data": {
      "text/latex": [
       "$\\displaystyle I = \\frac{m}{G_{0} s}$"
      ],
      "text/plain": [
       "Eq(I, m/(G_0*s))"
      ]
     },
     "metadata": {},
     "output_type": "display_data"
    },
    {
     "data": {
      "text/latex": [
       "$\\displaystyle B = \\frac{\\gamma m}{G_{0}^{2} q s}$"
      ],
      "text/plain": [
       "Eq(B, gamma*m/(G_0**2*q*s))"
      ]
     },
     "metadata": {},
     "output_type": "display_data"
    }
   ],
   "source": [
    "m,s,I,G,q,B,gamma,G0,p = symbols('m,s,I,G,q,B,gamma,G_0,p',positive=True)\n",
    "\n",
    "dG    = m     - s*I*G\n",
    "dI    = B*q*G - gamma*I\n",
    "dB    = B*p*(G-G0)\n",
    "\n",
    "steady_states = solve([dG,dI,dB],[G,I,B])\n",
    "\n",
    "Gst, Ist, Bst = steady_states[0]\n",
    "display(Eq(G,Gst))\n",
    "display(Eq(I,Ist))\n",
    "display(Eq(B,Bst))"
   ]
  }
 ],
 "metadata": {
  "hide_input": false,
  "kernelspec": {
   "display_name": "Python 3 (ipykernel)",
   "language": "python",
   "name": "python3"
  },
  "language_info": {
   "codemirror_mode": {
    "name": "ipython",
    "version": 3
   },
   "file_extension": ".py",
   "mimetype": "text/x-python",
   "name": "python",
   "nbconvert_exporter": "python",
   "pygments_lexer": "ipython3",
   "version": "3.7.11"
  }
 },
 "nbformat": 4,
 "nbformat_minor": 5
}
